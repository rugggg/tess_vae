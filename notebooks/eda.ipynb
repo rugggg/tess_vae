{
 "cells": [
  {
   "cell_type": "code",
   "execution_count": 4,
   "id": "recorded-creature",
   "metadata": {},
   "outputs": [],
   "source": [
    "import pandas as pd\n",
    "import numpy as np\n",
    "import matplotlib.pyplot as plt\n",
    "import seaborn as sns\n",
    "from astropy.io import fits"
   ]
  },
  {
   "cell_type": "code",
   "execution_count": 6,
   "id": "indirect-shade",
   "metadata": {},
   "outputs": [],
   "source": [
    "fits_file = \"../data/tess2018206192942-s0001-1-1-0120-s_ffic.fits\"\n",
    "fits_data = fits.getdata(fits_file, ext=0)"
   ]
  },
  {
   "cell_type": "code",
   "execution_count": 7,
   "id": "political-discount",
   "metadata": {},
   "outputs": [
    {
     "data": {
      "text/plain": [
       "array([[ 0.16183631, -0.07894499, -0.01857019, ...,  0.05061444,\n",
       "         0.03309988,  0.08267879],\n",
       "       [ 0.16499539, -0.06638198,  0.05023011, ...,  0.04145901,\n",
       "         0.1472752 ,  0.12631363],\n",
       "       [ 0.1588163 , -0.05923882,  0.04948185, ...,  0.02663166,\n",
       "         0.09964367,  0.03008415],\n",
       "       ...,\n",
       "       [ 0.05769408, -0.07381304,  0.0980499 , ..., -0.01031872,\n",
       "         0.03309502, -0.00070105],\n",
       "       [ 0.05694582, -0.00993391,  0.03144121, ..., -0.03347828,\n",
       "         0.01560741, -0.03347828],\n",
       "       [-0.0032511 , -0.03460851,  0.04623464, ...,  0.04153357,\n",
       "        -0.06156995, -0.05392515]], dtype=float32)"
      ]
     },
     "execution_count": 7,
     "metadata": {},
     "output_type": "execute_result"
    }
   ],
   "source": [
    "fits_data"
   ]
  },
  {
   "cell_type": "code",
   "execution_count": 9,
   "id": "static-timothy",
   "metadata": {},
   "outputs": [
    {
     "data": {
      "text/plain": [
       "(2078, 2136)"
      ]
     },
     "execution_count": 9,
     "metadata": {},
     "output_type": "execute_result"
    }
   ],
   "source": [
    "fits_data.shape"
   ]
  },
  {
   "cell_type": "code",
   "execution_count": 13,
   "id": "given-lloyd",
   "metadata": {},
   "outputs": [
    {
     "name": "stdout",
     "output_type": "stream",
     "text": [
      "Filename: ../data/tess2018206192942-s0001-1-1-0120-s_ffic.fits\n",
      "No.    Name      Ver    Type      Cards   Dimensions   Format\n",
      "  0  PRIMARY       1 PrimaryHDU      29   ()      \n",
      "  1  CAMERA.CCD 1.1 cal    1 ImageHDU       183   (2136, 2078)   float32   \n",
      "  2  CAMERA.CCD 1.1 uncert    1 ImageHDU       183   (2136, 2078)   float32   \n"
     ]
    }
   ],
   "source": [
    "fits_info = fits.info(fits_file)"
   ]
  },
  {
   "cell_type": "code",
   "execution_count": 14,
   "id": "crazy-identity",
   "metadata": {},
   "outputs": [
    {
     "data": {
      "text/plain": [
       "<matplotlib.image.AxesImage at 0x146b04c50>"
      ]
     },
     "execution_count": 14,
     "metadata": {},
     "output_type": "execute_result"
    },
    {
     "data": {
      "image/png": "[encoded data removed]",
      "text/plain": [
       "<Figure size 432x288 with 1 Axes>"
      ]
     },
     "metadata": {
      "needs_background": "light"
     },
     "output_type": "display_data"
    }
   ],
   "source": [
    "plt.imshow(fits_data)"
   ]
  },
  {
   "cell_type": "code",
   "execution_count": null,
   "id": "fewer-valuation",
   "metadata": {},
   "outputs": [],
   "source": [
    "fits.get_data(fits_file, )"
   ]
  }
 ],
 "metadata": {
  "kernelspec": {
   "display_name": "Python 3",
   "language": "python",
   "name": "python3"
  },
  "language_info": {
   "codemirror_mode": {
    "name": "ipython",
    "version": 3
   },
   "file_extension": ".py",
   "mimetype": "text/x-python",
   "name": "python",
   "nbconvert_exporter": "python",
   "pygments_lexer": "ipython3",
   "version": "3.6.5"
  }
 },
 "nbformat": 4,
 "nbformat_minor": 5
}
